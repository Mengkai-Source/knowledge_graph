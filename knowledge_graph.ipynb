{
 "cells": [
  {
   "cell_type": "code",
   "execution_count": 3,
   "id": "683f35c1",
   "metadata": {},
   "outputs": [],
   "source": [
    "import spacy\n",
    "from spacy.lang.en import English\n",
    "import networkx as nx\n",
    "import matplotlib.pyplot as plt"
   ]
  },
  {
   "cell_type": "code",
   "execution_count": 32,
   "id": "46fdd88d",
   "metadata": {},
   "outputs": [
    {
     "name": "stdout",
     "output_type": "stream",
     "text": [
      "['Hello, world.', 'Here are two sentences.', 'We have three phrases.']\n"
     ]
    }
   ],
   "source": [
    "raw_text = 'Hello, world. Here are two sentences. We have three phrases.'\n",
    "nlp = English()\n",
    "nlp.create_pipe('sentencizer')\n",
    "nlp.add_pipe('sentencizer') # updated\n",
    "doc = nlp(raw_text)\n",
    "sentences = [sent.text.strip() for sent in doc.sents]\n",
    "print(sentences)"
   ]
  },
  {
   "cell_type": "code",
   "execution_count": 4,
   "id": "cdfcd2d8",
   "metadata": {},
   "outputs": [],
   "source": [
    "def getSentences(text):\n",
    "    \"\"\"\n",
    "    Split paragraph into seperate sentences stored in a list\n",
    "    Argument:\n",
    "      -- text: string - paragraph\n",
    "    Return:\n",
    "      -- a list of seperated sentences\n",
    "    \"\"\"\n",
    "    nlp = English()\n",
    "    nlp.create_pipe('sentencizer')\n",
    "    nlp.add_pipe('sentencizer')\n",
    "    document = nlp(text)\n",
    "    return [sent.text.strip() for sent in document.sents]\n",
    "\n",
    "def printToken(token):\n",
    "    \"\"\"\n",
    "    Print token and part of speech\n",
    "    \"\"\"\n",
    "    print(token.text, \"->\", token.dep_)\n",
    "\n",
    "def appendChunk(original, chunk):\n",
    "    return original + ' ' + chunk\n",
    "\n",
    "def isRelationCandidate(token):\n",
    "    deps = [\"ROOT\", \"adj\", \"attr\", \"agent\", \"amod\"]\n",
    "    # check if Syntactic dependency of word in deps\n",
    "    return any(subs in token.dep_ for subs in deps)\n",
    "\n",
    "def isConstructionCandidate(token):\n",
    "    deps = [\"compound\", \"prep\", \"conj\", \"mod\"]\n",
    "    # check if Syntactic dependency of word in deps\n",
    "    return any(subs in token.dep_ for subs in deps)\n",
    "\n",
    "def processSubjectObjectPairs(tokens):\n",
    "    subject = ''\n",
    "    object = ''\n",
    "    relation = ''\n",
    "    subjectConstruction = ''\n",
    "    objectConstruction = ''\n",
    "    for token in tokens: # Iterate over each word\n",
    "        printToken(token)\n",
    "        if \"punct\" in token.dep_:\n",
    "            continue\n",
    "        if isRelationCandidate(token):\n",
    "            relation = appendChunk(relation, token.lemma_)\n",
    "        if isConstructionCandidate(token):\n",
    "            if subjectConstruction:\n",
    "                subjectConstruction = appendChunk(subjectConstruction, token.text)\n",
    "            if objectConstruction:\n",
    "                objectConstruction = appendChunk(objectConstruction, token.text)\n",
    "        if \"subj\" in token.dep_:\n",
    "            subject = appendChunk(subject, token.text)\n",
    "            subject = appendChunk(subjectConstruction, subject)\n",
    "            subjectConstruction = ''\n",
    "        if \"obj\" in token.dep_:\n",
    "            object = appendChunk(object, token.text)\n",
    "            object = appendChunk(objectConstruction, object)\n",
    "            objectConstruction = ''\n",
    "\n",
    "    print (subject.strip(), \",\", relation.strip(), \",\", object.strip())\n",
    "    return (subject.strip(), relation.strip(), object.strip())\n",
    "\n",
    "def processSentence(sentence):\n",
    "    tokens = nlp_model(sentence) # Spacy processes sentence\n",
    "    return processSubjectObjectPairs(tokens)\n",
    "\n",
    "def printGraph(triples):\n",
    "    G = nx.Graph()\n",
    "    for triple in triples:\n",
    "        G.add_node(triple[0])\n",
    "        G.add_node(triple[1])\n",
    "        G.add_node(triple[2])\n",
    "        G.add_edge(triple[0], triple[1])\n",
    "        G.add_edge(triple[1], triple[2])\n",
    "\n",
    "    pos = nx.spring_layout(G)\n",
    "    plt.figure(figsize=(14,6))\n",
    "    nx.draw(G, pos, edge_color='black', width=1, linewidths=1,\n",
    "            node_size=500, node_color='seagreen', alpha=0.9,\n",
    "            labels={node: node for node in G.nodes()})\n",
    "    plt.axis('off')\n",
    "    plt.show()"
   ]
  },
  {
   "cell_type": "code",
   "execution_count": 12,
   "id": "8ce51c4b",
   "metadata": {},
   "outputs": [
    {
     "data": {
      "text/plain": [
       "['London is the biggest city in Britain.',\n",
       " 'London has a population of 7,172,036.']"
      ]
     },
     "execution_count": 12,
     "metadata": {},
     "output_type": "execute_result"
    }
   ],
   "source": [
    "text = \"London is the capital and largest city of England and the United Kingdom. Standing on the River \" \\\n",
    "       \"Thames in the south-east of England, at the head of its 50-mile (80 km) estuary leading to \" \\\n",
    "           \"the North Sea, London has been a major settlement for two millennia. \" \\\n",
    "           \"Londinium was founded by the Romans. The City of London, \" \\\n",
    "           \"London's ancient core − an area of just 1.12 square miles (2.9 km2) and colloquially known as \" \\\n",
    "           \"the Square Mile − retains boundaries that follow closely its medieval limits.\" \\\n",
    "           \"The City of Westminster is also an Inner London borough holding city status. \" \\\n",
    "           \"Greater London is governed by the Mayor of London and the London Assembly.\" \\\n",
    "           \"London is located in the southeast of England.\" \\\n",
    "           \"Westminster is located in London.\" \\\n",
    "           \"London is the biggest city in Britain. London has a population of 7,172,036.\"\n",
    "text1 = \"London is the biggest city in Britain. London has a population of 7,172,036.\"\n",
    "sentences = getSentences(text1)\n",
    "sentences"
   ]
  },
  {
   "cell_type": "code",
   "execution_count": null,
   "id": "3b826f73",
   "metadata": {},
   "outputs": [],
   "source": [
    "nlp_model = spacy.load('en_core_web_sm')"
   ]
  },
  {
   "cell_type": "code",
   "execution_count": 16,
   "id": "5e1c2944",
   "metadata": {},
   "outputs": [
    {
     "name": "stdout",
     "output_type": "stream",
     "text": [
      "London has a population of 7,172,036.\n",
      "London PROPN nsubj\n",
      "has VERB ROOT\n",
      "a DET det\n",
      "population NOUN dobj\n",
      "of ADP prep\n",
      "7,172,036 NUM pobj\n",
      ". PUNCT punct\n"
     ]
    }
   ],
   "source": [
    "doc = nlp_model('London has a population of 7,172,036.')\n",
    "print(doc.text)\n",
    "for token in doc:\n",
    "    # print(token Words, Part-of-speech, Syntactic dependency)\n",
    "    print(token.text, token.pos_, token.dep_)"
   ]
  },
  {
   "cell_type": "code",
   "execution_count": 7,
   "id": "a8c6a715",
   "metadata": {},
   "outputs": [
    {
     "name": "stdout",
     "output_type": "stream",
     "text": [
      "London is the biggest city in Britain. London has a population of 7,172,036.\n",
      "London -> nsubj\n",
      "is -> ROOT\n",
      "the -> det\n",
      "biggest -> amod\n",
      "city -> attr\n",
      "in -> prep\n",
      "Britain -> pobj\n",
      ". -> punct\n",
      "London , be big city , Britain\n",
      "London -> nsubj\n",
      "has -> ROOT\n",
      "a -> det\n",
      "population -> dobj\n",
      "of -> prep\n",
      "7,172,036 -> pobj\n",
      ". -> punct\n",
      "London , have , population 7,172,036\n"
     ]
    },
    {
     "data": {
      "image/png": "[encoded data removed]",
      "text/plain": [
       "<Figure size 1008x432 with 1 Axes>"
      ]
     },
     "metadata": {},
     "output_type": "display_data"
    }
   ],
   "source": [
    "triples = []\n",
    "print (text1)\n",
    "for sentence in sentences: # Iterate sentences\n",
    "    triples.append(processSentence(sentence))\n",
    "printGraph(triples)"
   ]
  },
  {
   "cell_type": "code",
   "execution_count": null,
   "id": "88006cda",
   "metadata": {},
   "outputs": [],
   "source": []
  }
 ],
 "metadata": {
  "environment": {
   "name": "tf2-gpu.2-3.m78",
   "type": "gcloud",
   "uri": "gcr.io/deeplearning-platform-release/tf2-gpu.2-3:m78"
  },
  "kernelspec": {
   "display_name": "Python 3",
   "language": "python",
   "name": "python3"
  },
  "language_info": {
   "codemirror_mode": {
    "name": "ipython",
    "version": 3
   },
   "file_extension": ".py",
   "mimetype": "text/x-python",
   "name": "python",
   "nbconvert_exporter": "python",
   "pygments_lexer": "ipython3",
   "version": "3.7.10"
  }
 },
 "nbformat": 4,
 "nbformat_minor": 5
}
